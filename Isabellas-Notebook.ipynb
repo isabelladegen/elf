{
 "cells": [
  {
   "cell_type": "markdown",
   "metadata": {
    "collapsed": true,
    "pycharm": {
     "name": "#%% md\n"
    }
   },
   "source": [
    "# Read data into pandas"
   ]
  },
  {
   "cell_type": "code",
   "execution_count": 1,
   "outputs": [],
   "source": [
    "import pandas as pd\n",
    "import os"
   ],
   "metadata": {
    "collapsed": false,
    "pycharm": {
     "name": "#%%\n"
    }
   }
  },
  {
   "cell_type": "code",
   "execution_count": 6,
   "outputs": [],
   "source": [
    "data_path = 'data/'\n",
    "raw_data = pd.read_csv(os.path.join(data_path, '4AprilSurveyAnswers(1-275).csv'))\n",
    "raw_data = raw_data.drop(columns=['Email', 'Name'])"
   ],
   "metadata": {
    "collapsed": false,
    "pycharm": {
     "name": "#%%\n"
    }
   }
  },
  {
   "cell_type": "code",
   "execution_count": 25,
   "outputs": [
    {
     "data": {
      "text/plain": "      ID        Start time   Completion time  \\\n0      9  3/14/22 12:59:04  3/14/22 13:01:26   \n1     10  3/14/22 13:02:18  3/14/22 13:03:56   \n2     11  3/14/22 13:01:56  3/14/22 13:05:26   \n3     12  3/14/22 13:08:48  3/14/22 13:10:34   \n4     13  3/14/22 13:10:14  3/14/22 13:15:56   \n..   ...               ...               ...   \n270  279    4/1/22 8:24:06    4/1/22 8:27:46   \n271  280   4/1/22 11:51:49   4/1/22 11:55:00   \n272  281   4/1/22 15:56:31   4/1/22 15:58:53   \n273  282   4/4/22 10:35:25   4/4/22 10:45:33   \n274  283   4/4/22 13:27:33   4/4/22 13:30:57   \n\n    Do you work, or have you worked, in healthcare?\\nFor example in a hospital or care centre  \\\n0                                                   No                                          \n1                                                   No                                          \n2                                                   No                                          \n3                                                  Yes                                          \n4                                                   No                                          \n..                                                 ...                                          \n270                                                Yes                                          \n271                                                Yes                                          \n272                                                Yes                                          \n273                                                Yes                                          \n274                                                Yes                                          \n\n     In your work, how often are you involved in high-stakes decision making?\\n\\nBy \"high-stakes decision making\" we mean making decisions that are highly impactful.\\nHigh  stakes decisions occur in many ...  \\\n0                                                    7                                                                                                                                                            \n1                                                    2                                                                                                                                                            \n2                                                    6                                                                                                                                                            \n3                                                    9                                                                                                                                                            \n4                                                    5                                                                                                                                                            \n..                                                 ...                                                                                                                                                            \n270                                                  5                                                                                                                                                            \n271                                                  5                                                                                                                                                            \n272                                                  8                                                                                                                                                            \n273                                                  5                                                                                                                                                            \n274                                                  8                                                                                                                                                            \n\n     How experienced are you with AI?\\n\\n1: I haven't worked with AI, or don't know if I've worked with AI\\n\\n5: I have used AI tools, but don't know how they work\\n\\n10: I have researched or developed AI, o...  \\\n0                                                    2                                                                                                                                                               \n1                                                    1                                                                                                                                                               \n2                                                    6                                                                                                                                                               \n3                                                    2                                                                                                                                                               \n4                                                    7                                                                                                                                                               \n..                                                 ...                                                                                                                                                               \n270                                                  5                                                                                                                                                               \n271                                                  7                                                                                                                                                               \n272                                                  5                                                                                                                                                               \n273                                                  1                                                                                                                                                               \n274                                                  1                                                                                                                                                               \n\n     How much, on a scale of 1 to 10, do you trust the diagnosis of Dr Medicine?  \\\n0                                                   10                             \n1                                                    9                             \n2                                                    8                             \n3                                                    8                             \n4                                                    7                             \n..                                                 ...                             \n270                                                  5                             \n271                                                  9                             \n272                                                  8                             \n273                                                  8                             \n274                                                  9                             \n\n     How much, on a scale of 1 to 10, do you trust the diagnosis of Dr Medicine when working with HawkAI?  \\\n0                                                   10                                                      \n1                                                   10                                                      \n2                                                    7                                                      \n3                                                    4                                                      \n4                                                    8                                                      \n..                                                 ...                                                      \n270                                                  6                                                      \n271                                                  8                                                      \n272                                                  9                                                      \n273                                                  8                                                      \n274                                                 10                                                      \n\n     How much, on a scale of 1 to 10, would you trust the diagnosis of Dr Medicine when working with HouseAI?  \\\n0                                                    7                                                          \n1                                                    9                                                          \n2                                                    8                                                          \n3                                                    2                                                          \n4                                                    5                                                          \n..                                                 ...                                                          \n270                                                  7                                                          \n271                                                  6                                                          \n272                                                  9                                                          \n273                                                  9                                                          \n274                                                  9                                                          \n\n     How much, on a scale of 1 to 10, would you trust the diagnosis of the AI tool HouseAI when working by itself?  \n0                                                    5                                                              \n1                                                    7                                                              \n2                                                    9                                                              \n3                                                    1                                                              \n4                                                    1                                                              \n..                                                 ...                                                              \n270                                                  7                                                              \n271                                                  6                                                              \n272                                                  9                                                              \n273                                                  1                                                              \n274                                                  9                                                              \n\n[275 rows x 10 columns]",
      "text/html": "<div>\n<style scoped>\n    .dataframe tbody tr th:only-of-type {\n        vertical-align: middle;\n    }\n\n    .dataframe tbody tr th {\n        vertical-align: top;\n    }\n\n    .dataframe thead th {\n        text-align: right;\n    }\n</style>\n<table border=\"1\" class=\"dataframe\">\n  <thead>\n    <tr style=\"text-align: right;\">\n      <th></th>\n      <th>ID</th>\n      <th>Start time</th>\n      <th>Completion time</th>\n      <th>Do you work, or have you worked, in healthcare?\\nFor example in a hospital or care centre</th>\n      <th>In your work, how often are you involved in high-stakes decision making?\\n\\nBy \"high-stakes decision making\" we mean making decisions that are highly impactful.\\nHigh  stakes decisions occur in many ...</th>\n      <th>How experienced are you with AI?\\n\\n1: I haven't worked with AI, or don't know if I've worked with AI\\n\\n5: I have used AI tools, but don't know how they work\\n\\n10: I have researched or developed AI, o...</th>\n      <th>How much, on a scale of 1 to 10, do you trust the diagnosis of Dr Medicine?</th>\n      <th>How much, on a scale of 1 to 10, do you trust the diagnosis of Dr Medicine when working with HawkAI?</th>\n      <th>How much, on a scale of 1 to 10, would you trust the diagnosis of Dr Medicine when working with HouseAI?</th>\n      <th>How much, on a scale of 1 to 10, would you trust the diagnosis of the AI tool HouseAI when working by itself?</th>\n    </tr>\n  </thead>\n  <tbody>\n    <tr>\n      <th>0</th>\n      <td>9</td>\n      <td>3/14/22 12:59:04</td>\n      <td>3/14/22 13:01:26</td>\n      <td>No</td>\n      <td>7</td>\n      <td>2</td>\n      <td>10</td>\n      <td>10</td>\n      <td>7</td>\n      <td>5</td>\n    </tr>\n    <tr>\n      <th>1</th>\n      <td>10</td>\n      <td>3/14/22 13:02:18</td>\n      <td>3/14/22 13:03:56</td>\n      <td>No</td>\n      <td>2</td>\n      <td>1</td>\n      <td>9</td>\n      <td>10</td>\n      <td>9</td>\n      <td>7</td>\n    </tr>\n    <tr>\n      <th>2</th>\n      <td>11</td>\n      <td>3/14/22 13:01:56</td>\n      <td>3/14/22 13:05:26</td>\n      <td>No</td>\n      <td>6</td>\n      <td>6</td>\n      <td>8</td>\n      <td>7</td>\n      <td>8</td>\n      <td>9</td>\n    </tr>\n    <tr>\n      <th>3</th>\n      <td>12</td>\n      <td>3/14/22 13:08:48</td>\n      <td>3/14/22 13:10:34</td>\n      <td>Yes</td>\n      <td>9</td>\n      <td>2</td>\n      <td>8</td>\n      <td>4</td>\n      <td>2</td>\n      <td>1</td>\n    </tr>\n    <tr>\n      <th>4</th>\n      <td>13</td>\n      <td>3/14/22 13:10:14</td>\n      <td>3/14/22 13:15:56</td>\n      <td>No</td>\n      <td>5</td>\n      <td>7</td>\n      <td>7</td>\n      <td>8</td>\n      <td>5</td>\n      <td>1</td>\n    </tr>\n    <tr>\n      <th>...</th>\n      <td>...</td>\n      <td>...</td>\n      <td>...</td>\n      <td>...</td>\n      <td>...</td>\n      <td>...</td>\n      <td>...</td>\n      <td>...</td>\n      <td>...</td>\n      <td>...</td>\n    </tr>\n    <tr>\n      <th>270</th>\n      <td>279</td>\n      <td>4/1/22 8:24:06</td>\n      <td>4/1/22 8:27:46</td>\n      <td>Yes</td>\n      <td>5</td>\n      <td>5</td>\n      <td>5</td>\n      <td>6</td>\n      <td>7</td>\n      <td>7</td>\n    </tr>\n    <tr>\n      <th>271</th>\n      <td>280</td>\n      <td>4/1/22 11:51:49</td>\n      <td>4/1/22 11:55:00</td>\n      <td>Yes</td>\n      <td>5</td>\n      <td>7</td>\n      <td>9</td>\n      <td>8</td>\n      <td>6</td>\n      <td>6</td>\n    </tr>\n    <tr>\n      <th>272</th>\n      <td>281</td>\n      <td>4/1/22 15:56:31</td>\n      <td>4/1/22 15:58:53</td>\n      <td>Yes</td>\n      <td>8</td>\n      <td>5</td>\n      <td>8</td>\n      <td>9</td>\n      <td>9</td>\n      <td>9</td>\n    </tr>\n    <tr>\n      <th>273</th>\n      <td>282</td>\n      <td>4/4/22 10:35:25</td>\n      <td>4/4/22 10:45:33</td>\n      <td>Yes</td>\n      <td>5</td>\n      <td>1</td>\n      <td>8</td>\n      <td>8</td>\n      <td>9</td>\n      <td>1</td>\n    </tr>\n    <tr>\n      <th>274</th>\n      <td>283</td>\n      <td>4/4/22 13:27:33</td>\n      <td>4/4/22 13:30:57</td>\n      <td>Yes</td>\n      <td>8</td>\n      <td>1</td>\n      <td>9</td>\n      <td>10</td>\n      <td>9</td>\n      <td>9</td>\n    </tr>\n  </tbody>\n</table>\n<p>275 rows × 10 columns</p>\n</div>"
     },
     "execution_count": 25,
     "metadata": {},
     "output_type": "execute_result"
    }
   ],
   "source": [
    "scen1 = 'How much, on a scale of 1 to 10, do you trust the diagnosis of Dr Medicine?'\n",
    "scen2 = 'How much, on a scale of 1 to 10, do you trust the diagnosis of Dr Medicine when working with HawkAI?'\n",
    "scen3 = 'How much, on a scale of 1 to 10, would you trust the diagnosis of Dr Medicine when working with HouseAI?'\n",
    "scen4 = 'How much, on a scale of 1 to 10, would you trust the diagnosis of the AI tool HouseAI when working by itself?'\n",
    "raw_data"
   ],
   "metadata": {
    "collapsed": false,
    "pycharm": {
     "name": "#%%\n"
    }
   }
  },
  {
   "cell_type": "markdown",
   "source": [
    "# Trust Ranking per answer\n",
    "\n",
    "This ranks each answers from 1-4 no matter how much the trust was, 1 highest ranking, 4 lowest ranking"
   ],
   "metadata": {
    "collapsed": false
   }
  },
  {
   "cell_type": "code",
   "execution_count": 17,
   "outputs": [
    {
     "data": {
      "text/plain": "   scen1  scen3  scen4  scen5\n0     10      5      8      6\n1      3      2      2     10",
      "text/html": "<div>\n<style scoped>\n    .dataframe tbody tr th:only-of-type {\n        vertical-align: middle;\n    }\n\n    .dataframe tbody tr th {\n        vertical-align: top;\n    }\n\n    .dataframe thead th {\n        text-align: right;\n    }\n</style>\n<table border=\"1\" class=\"dataframe\">\n  <thead>\n    <tr style=\"text-align: right;\">\n      <th></th>\n      <th>scen1</th>\n      <th>scen3</th>\n      <th>scen4</th>\n      <th>scen5</th>\n    </tr>\n  </thead>\n  <tbody>\n    <tr>\n      <th>0</th>\n      <td>10</td>\n      <td>5</td>\n      <td>8</td>\n      <td>6</td>\n    </tr>\n    <tr>\n      <th>1</th>\n      <td>3</td>\n      <td>2</td>\n      <td>2</td>\n      <td>10</td>\n    </tr>\n  </tbody>\n</table>\n</div>"
     },
     "execution_count": 17,
     "metadata": {},
     "output_type": "execute_result"
    }
   ],
   "source": [
    "df = pd.DataFrame(data={\n",
    "    'scen1': [10, 3],\n",
    "    'scen3': [5, 2],\n",
    "    'scen4': [8, 2],\n",
    "    'scen5': [6, 10],\n",
    "\n",
    "\n",
    "                        })\n",
    "df"
   ],
   "metadata": {
    "collapsed": false,
    "pycharm": {
     "name": "#%%\n"
    }
   }
  },
  {
   "cell_type": "code",
   "execution_count": 18,
   "outputs": [
    {
     "data": {
      "text/plain": "   scen1  scen3  scen4  scen5\n0    4.0    1.0    3.0    2.0\n1    3.0    1.0    1.0    4.0",
      "text/html": "<div>\n<style scoped>\n    .dataframe tbody tr th:only-of-type {\n        vertical-align: middle;\n    }\n\n    .dataframe tbody tr th {\n        vertical-align: top;\n    }\n\n    .dataframe thead th {\n        text-align: right;\n    }\n</style>\n<table border=\"1\" class=\"dataframe\">\n  <thead>\n    <tr style=\"text-align: right;\">\n      <th></th>\n      <th>scen1</th>\n      <th>scen3</th>\n      <th>scen4</th>\n      <th>scen5</th>\n    </tr>\n  </thead>\n  <tbody>\n    <tr>\n      <th>0</th>\n      <td>4.0</td>\n      <td>1.0</td>\n      <td>3.0</td>\n      <td>2.0</td>\n    </tr>\n    <tr>\n      <th>1</th>\n      <td>3.0</td>\n      <td>1.0</td>\n      <td>1.0</td>\n      <td>4.0</td>\n    </tr>\n  </tbody>\n</table>\n</div>"
     },
     "execution_count": 18,
     "metadata": {},
     "output_type": "execute_result"
    }
   ],
   "source": [
    "df.rank(axis=1, method='min')"
   ],
   "metadata": {
    "collapsed": false,
    "pycharm": {
     "name": "#%%\n"
    }
   }
  },
  {
   "cell_type": "code",
   "execution_count": 21,
   "outputs": [
    {
     "data": {
      "text/plain": "Index(['ID', 'Start time', 'Completion time',\n       'Do you work, or have you worked, in healthcare?\\nFor example in a hospital or care centre',\n       'In your work, how often are you involved in high-stakes decision making?\\n\\nBy \"high-stakes decision making\" we mean making decisions that are highly impactful.\\nHigh  stakes decisions occur in many ...',\n       'How experienced are you with AI?\\n\\n1: I haven't worked with AI, or don't know if I've worked with AI\\n\\n5: I have used AI tools, but don't know how they work\\n\\n10: I have researched or developed AI, o...',\n       'How much, on a scale of 1 to 10, do you trust the diagnosis of Dr Medicine?',\n       'How much, on a scale of 1 to 10, do you trust the diagnosis of Dr Medicine when working with HawkAI?',\n       'How much, on a scale of 1 to 10, would you trust the diagnosis of Dr Medicine when working with HouseAI?',\n       'How much, on a scale of 1 to 10, would you trust the diagnosis of the AI tool HouseAI when working by itself?'],\n      dtype='object')"
     },
     "execution_count": 21,
     "metadata": {},
     "output_type": "execute_result"
    }
   ],
   "source": [
    "raw_data.columns"
   ],
   "metadata": {
    "collapsed": false,
    "pycharm": {
     "name": "#%%\n"
    }
   }
  },
  {
   "cell_type": "code",
   "execution_count": 39,
   "outputs": [
    {
     "data": {
      "text/plain": "     How much, on a scale of 1 to 10, do you trust the diagnosis of Dr Medicine?  \\\n0                                                    3                             \n1                                                    2                             \n2                                                    2                             \n3                                                    4                             \n4                                                    3                             \n..                                                 ...                             \n270                                                  1                             \n271                                                  4                             \n272                                                  1                             \n273                                                  2                             \n274                                                  1                             \n\n     How much, on a scale of 1 to 10, do you trust the diagnosis of Dr Medicine when working with HawkAI?  \\\n0                                                    3                                                      \n1                                                    4                                                      \n2                                                    1                                                      \n3                                                    3                                                      \n4                                                    4                                                      \n..                                                 ...                                                      \n270                                                  2                                                      \n271                                                  3                                                      \n272                                                  2                                                      \n273                                                  2                                                      \n274                                                  4                                                      \n\n     How much, on a scale of 1 to 10, would you trust the diagnosis of Dr Medicine when working with HouseAI?  \\\n0                                                    2                                                          \n1                                                    2                                                          \n2                                                    2                                                          \n3                                                    2                                                          \n4                                                    2                                                          \n..                                                 ...                                                          \n270                                                  3                                                          \n271                                                  1                                                          \n272                                                  2                                                          \n273                                                  4                                                          \n274                                                  1                                                          \n\n     How much, on a scale of 1 to 10, would you trust the diagnosis of the AI tool HouseAI when working by itself?  \n0                                                    1                                                              \n1                                                    1                                                              \n2                                                    4                                                              \n3                                                    1                                                              \n4                                                    1                                                              \n..                                                 ...                                                              \n270                                                  3                                                              \n271                                                  1                                                              \n272                                                  2                                                              \n273                                                  1                                                              \n274                                                  1                                                              \n\n[275 rows x 4 columns]",
      "text/html": "<div>\n<style scoped>\n    .dataframe tbody tr th:only-of-type {\n        vertical-align: middle;\n    }\n\n    .dataframe tbody tr th {\n        vertical-align: top;\n    }\n\n    .dataframe thead th {\n        text-align: right;\n    }\n</style>\n<table border=\"1\" class=\"dataframe\">\n  <thead>\n    <tr style=\"text-align: right;\">\n      <th></th>\n      <th>How much, on a scale of 1 to 10, do you trust the diagnosis of Dr Medicine?</th>\n      <th>How much, on a scale of 1 to 10, do you trust the diagnosis of Dr Medicine when working with HawkAI?</th>\n      <th>How much, on a scale of 1 to 10, would you trust the diagnosis of Dr Medicine when working with HouseAI?</th>\n      <th>How much, on a scale of 1 to 10, would you trust the diagnosis of the AI tool HouseAI when working by itself?</th>\n    </tr>\n  </thead>\n  <tbody>\n    <tr>\n      <th>0</th>\n      <td>3</td>\n      <td>3</td>\n      <td>2</td>\n      <td>1</td>\n    </tr>\n    <tr>\n      <th>1</th>\n      <td>2</td>\n      <td>4</td>\n      <td>2</td>\n      <td>1</td>\n    </tr>\n    <tr>\n      <th>2</th>\n      <td>2</td>\n      <td>1</td>\n      <td>2</td>\n      <td>4</td>\n    </tr>\n    <tr>\n      <th>3</th>\n      <td>4</td>\n      <td>3</td>\n      <td>2</td>\n      <td>1</td>\n    </tr>\n    <tr>\n      <th>4</th>\n      <td>3</td>\n      <td>4</td>\n      <td>2</td>\n      <td>1</td>\n    </tr>\n    <tr>\n      <th>...</th>\n      <td>...</td>\n      <td>...</td>\n      <td>...</td>\n      <td>...</td>\n    </tr>\n    <tr>\n      <th>270</th>\n      <td>1</td>\n      <td>2</td>\n      <td>3</td>\n      <td>3</td>\n    </tr>\n    <tr>\n      <th>271</th>\n      <td>4</td>\n      <td>3</td>\n      <td>1</td>\n      <td>1</td>\n    </tr>\n    <tr>\n      <th>272</th>\n      <td>1</td>\n      <td>2</td>\n      <td>2</td>\n      <td>2</td>\n    </tr>\n    <tr>\n      <th>273</th>\n      <td>2</td>\n      <td>2</td>\n      <td>4</td>\n      <td>1</td>\n    </tr>\n    <tr>\n      <th>274</th>\n      <td>1</td>\n      <td>4</td>\n      <td>1</td>\n      <td>1</td>\n    </tr>\n  </tbody>\n</table>\n<p>275 rows × 4 columns</p>\n</div>"
     },
     "execution_count": 39,
     "metadata": {},
     "output_type": "execute_result"
    }
   ],
   "source": [
    "ranked_df = raw_data[[scen1, scen2, scen3, scen4]].rank(axis=1, method='min').astype(int)\n",
    "ranked_df"
   ],
   "metadata": {
    "collapsed": false,
    "pycharm": {
     "name": "#%%\n"
    }
   }
  },
  {
   "cell_type": "code",
   "execution_count": 61,
   "outputs": [
    {
     "data": {
      "text/plain": "   How much, on a scale of 1 to 10, do you trust the diagnosis of Dr Medicine?  \\\n1                                                107                             \n2                                                 67                             \n3                                                 63                             \n4                                                 38                             \n\n   How much, on a scale of 1 to 10, do you trust the diagnosis of Dr Medicine when working with HawkAI?  \\\n1                                                 55                                                      \n2                                                 75                                                      \n3                                                 84                                                      \n4                                                 61                                                      \n\n   How much, on a scale of 1 to 10, would you trust the diagnosis of Dr Medicine when working with HouseAI?  \\\n1                                                 70                                                          \n2                                                125                                                          \n3                                                 57                                                          \n4                                                 23                                                          \n\n   How much, on a scale of 1 to 10, would you trust the diagnosis of the AI tool HouseAI when working by itself?  \n1                                                176                                                              \n2                                                 49                                                              \n3                                                 42                                                              \n4                                                  8                                                              ",
      "text/html": "<div>\n<style scoped>\n    .dataframe tbody tr th:only-of-type {\n        vertical-align: middle;\n    }\n\n    .dataframe tbody tr th {\n        vertical-align: top;\n    }\n\n    .dataframe thead th {\n        text-align: right;\n    }\n</style>\n<table border=\"1\" class=\"dataframe\">\n  <thead>\n    <tr style=\"text-align: right;\">\n      <th></th>\n      <th>How much, on a scale of 1 to 10, do you trust the diagnosis of Dr Medicine?</th>\n      <th>How much, on a scale of 1 to 10, do you trust the diagnosis of Dr Medicine when working with HawkAI?</th>\n      <th>How much, on a scale of 1 to 10, would you trust the diagnosis of Dr Medicine when working with HouseAI?</th>\n      <th>How much, on a scale of 1 to 10, would you trust the diagnosis of the AI tool HouseAI when working by itself?</th>\n    </tr>\n  </thead>\n  <tbody>\n    <tr>\n      <th>1</th>\n      <td>107</td>\n      <td>55</td>\n      <td>70</td>\n      <td>176</td>\n    </tr>\n    <tr>\n      <th>2</th>\n      <td>67</td>\n      <td>75</td>\n      <td>125</td>\n      <td>49</td>\n    </tr>\n    <tr>\n      <th>3</th>\n      <td>63</td>\n      <td>84</td>\n      <td>57</td>\n      <td>42</td>\n    </tr>\n    <tr>\n      <th>4</th>\n      <td>38</td>\n      <td>61</td>\n      <td>23</td>\n      <td>8</td>\n    </tr>\n  </tbody>\n</table>\n</div>"
     },
     "execution_count": 61,
     "metadata": {},
     "output_type": "execute_result"
    }
   ],
   "source": [
    "value_c = ranked_df.apply(pd.Series.value_counts)\n",
    "value_c"
   ],
   "metadata": {
    "collapsed": false,
    "pycharm": {
     "name": "#%%\n"
    }
   }
  },
  {
   "cell_type": "code",
   "execution_count": 62,
   "outputs": [
    {
     "data": {
      "text/plain": "Text(0, 0.5, 'Rank: 1 lowest, 4 highest')"
     },
     "execution_count": 62,
     "metadata": {},
     "output_type": "execute_result"
    },
    {
     "data": {
      "text/plain": "<Figure size 432x288 with 1 Axes>",
      "image/png": "[encoded data removed]"
     },
     "metadata": {
      "needs_background": "light"
     },
     "output_type": "display_data"
    }
   ],
   "source": [
    "value_c = value_c.rename(columns={scen1 : 'Dr', scen2 : 'Dr & GB', scen3 : 'Dr & BB', scen4 : 'BB'})\n",
    "ax = value_c.plot.barh()\n",
    "ax.set_xlabel('Number of answers')\n",
    "ax.set_ylabel('Rank: 1 lowest, 4 highest')"
   ],
   "metadata": {
    "collapsed": false,
    "pycharm": {
     "name": "#%%\n"
    }
   }
  },
  {
   "cell_type": "code",
   "execution_count": null,
   "outputs": [],
   "source": [],
   "metadata": {
    "collapsed": false,
    "pycharm": {
     "name": "#%%\n"
    }
   }
  }
 ],
 "metadata": {
  "kernelspec": {
   "display_name": "Python 3",
   "language": "python",
   "name": "python3"
  },
  "language_info": {
   "codemirror_mode": {
    "name": "ipython",
    "version": 2
   },
   "file_extension": ".py",
   "mimetype": "text/x-python",
   "name": "python",
   "nbconvert_exporter": "python",
   "pygments_lexer": "ipython2",
   "version": "2.7.6"
  }
 },
 "nbformat": 4,
 "nbformat_minor": 0
}